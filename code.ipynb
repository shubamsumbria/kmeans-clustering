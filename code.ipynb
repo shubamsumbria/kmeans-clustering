{
  "cells": [
    {
      "cell_type": "markdown",
      "metadata": {
        "id": "Cl13ontj3WpO"
      },
      "source": [
        "# ✨ Clustering of Salaried Employees using k-Means 🎰"
      ]
    },
    {
      "cell_type": "markdown",
      "metadata": {
        "id": "aaB3aDw03WpP"
      },
      "source": [
        "## Table of Contents\n",
        "\n",
        "1. **[Importing Libraires](#1)**\n",
        "   \n",
        "2. **[Loading Dataset](#2)**\n",
        "\n",
        "3. **[Data Information](#3)**\n",
        "\n",
        "4. **[Data Cleaning](#4)**\n",
        "\n",
        "5. **[Data Transformation](#5)**\n",
        "\n",
        "6. **[Data Reduction](#6)**\n",
        "\n",
        "7. **[Finding Optimal k](#7)**\n",
        "\n",
        "8. **[k-Means Algorithm](#8)**\n",
        "\n",
        "9. **[Final Clustering](#9)**\n",
        "\n",
        "Now, let's proceed with each section one by one, starting with importing libraries."
      ]
    },
    {
      "cell_type": "markdown",
      "metadata": {
        "id": "KmcrksHT3WpQ"
      },
      "source": [
        "<a id=\"1\"></a> <br>\n",
        "\n",
        "## Section 1: Importing Required Libraries and Modules"
      ]
    },
    {
      "cell_type": "code",
      "execution_count": null,
      "metadata": {},
      "outputs": [],
      "source": [
        "# Purpose: Import necessary libraries for the project."
      ]
    },
    {
      "cell_type": "code",
      "execution_count": null,
      "metadata": {},
      "outputs": [],
      "source": [
        "# Install the 'missingno' library for visualizing missing data\n",
        "%pip install missingno -q"
      ]
    },
    {
      "cell_type": "code",
      "execution_count": null,
      "metadata": {
        "execution": {
          "iopub.execute_input": "2022-02-11T09:00:02.182859Z",
          "iopub.status.busy": "2022-02-11T09:00:02.182586Z",
          "iopub.status.idle": "2022-02-11T09:00:03.575002Z",
          "shell.execute_reply": "2022-02-11T09:00:03.574166Z",
          "shell.execute_reply.started": "2022-02-11T09:00:02.182819Z"
        },
        "id": "se3-Ccui3WpR",
        "trusted": true
      },
      "outputs": [],
      "source": [
        "import warnings\n",
        "warnings.filterwarnings('ignore')\n",
        "\n",
        "# Data manipulation and analysis\n",
        "import pandas as pd\n",
        "import numpy as np\n",
        "\n",
        "# Data visualization\n",
        "import matplotlib.pyplot as plt\n",
        "import seaborn as sns\n",
        "import missingno as msno\n",
        "\n",
        "# Data preprocessing and clustering\n",
        "from sklearn.preprocessing import LabelEncoder, normalize\n",
        "from sklearn.cluster import KMeans\n",
        "\n",
        "# Evaluation metrics\n",
        "from sklearn.metrics import silhouette_score, calinski_harabasz_score, davies_bouldin_score\n",
        "\n",
        "# Dimensionality reduction\n",
        "from sklearn.decomposition import PCA"
      ]
    },
    {
      "cell_type": "markdown",
      "metadata": {
        "id": "6yMV4HEr3WpS"
      },
      "source": [
        "<a id=\"2\"></a> <br>\n",
        "\n",
        "## Section 2: Loading Dataset into Pandas' DataFrame"
      ]
    },
    {
      "cell_type": "code",
      "execution_count": null,
      "metadata": {},
      "outputs": [],
      "source": [
        "# Purpose: Load the dataset that will be used for analysis and clustering."
      ]
    },
    {
      "cell_type": "code",
      "execution_count": null,
      "metadata": {
        "execution": {
          "iopub.execute_input": "2022-02-11T09:00:06.468331Z",
          "iopub.status.busy": "2022-02-11T09:00:06.468071Z",
          "iopub.status.idle": "2022-02-11T09:00:06.643020Z",
          "shell.execute_reply": "2022-02-11T09:00:06.642139Z",
          "shell.execute_reply.started": "2022-02-11T09:00:06.468303Z"
        },
        "id": "DmQBGfkK3WpT",
        "outputId": "68bb0562-8701-4b5c-adaa-22a2d9bb861f",
        "trusted": true
      },
      "outputs": [
        {
          "data": {
            "text/html": [
              "<div>\n",
              "<style scoped>\n",
              "    .dataframe tbody tr th:only-of-type {\n",
              "        vertical-align: middle;\n",
              "    }\n",
              "\n",
              "    .dataframe tbody tr th {\n",
              "        vertical-align: top;\n",
              "    }\n",
              "\n",
              "    .dataframe thead th {\n",
              "        text-align: right;\n",
              "    }\n",
              "</style>\n",
              "<table border=\"1\" class=\"dataframe\">\n",
              "  <thead>\n",
              "    <tr style=\"text-align: right;\">\n",
              "      <th></th>\n",
              "      <th>candidateName</th>\n",
              "      <th>companyName</th>\n",
              "      <th>designation</th>\n",
              "      <th>experienceMas</th>\n",
              "      <th>locationCurrentMas</th>\n",
              "      <th>qualificationMas</th>\n",
              "      <th>qualificationMas2</th>\n",
              "      <th>salary</th>\n",
              "      <th>Category</th>\n",
              "    </tr>\n",
              "  </thead>\n",
              "  <tbody>\n",
              "    <tr>\n",
              "      <th>0</th>\n",
              "      <td>Ruchismita Dash</td>\n",
              "      <td>Amdocs</td>\n",
              "      <td>Software Developer</td>\n",
              "      <td>2 Year(s) 1 Month(s)</td>\n",
              "      <td>Hyderabad/ Secunderabad</td>\n",
              "      <td>BE/ B.Tech (Engineering)</td>\n",
              "      <td>NaN</td>\n",
              "      <td>Rs. 6.71 lacs</td>\n",
              "      <td>HYDERABAD-SALARIED</td>\n",
              "    </tr>\n",
              "    <tr>\n",
              "      <th>1</th>\n",
              "      <td>MANISHA DAS</td>\n",
              "      <td>APOLLO HOSPITALS ENTERPRISES LIMITED</td>\n",
              "      <td>SENIOR EXECUTIVE-OPERATIONS</td>\n",
              "      <td>5 Year(s) 9 Month(s)</td>\n",
              "      <td>Hyderabad/ Secunderabad</td>\n",
              "      <td>MBA/ PGDM</td>\n",
              "      <td>B.Pharm. (Pharmacy)</td>\n",
              "      <td>Rs. 5.0 lacs</td>\n",
              "      <td>HYDERABAD-SALARIED</td>\n",
              "    </tr>\n",
              "    <tr>\n",
              "      <th>2</th>\n",
              "      <td>C J GEETHA PRIYA</td>\n",
              "      <td>propertyoneshop.com</td>\n",
              "      <td>System Administrator</td>\n",
              "      <td>4 Year(s) 4 Month(s)</td>\n",
              "      <td>Hyderabad/ Secunderabad</td>\n",
              "      <td>B.Com. (Commerce)</td>\n",
              "      <td>NaN</td>\n",
              "      <td>Rs. 84.0 lacs</td>\n",
              "      <td>HYDERABAD-SALARIED</td>\n",
              "    </tr>\n",
              "    <tr>\n",
              "      <th>3</th>\n",
              "      <td>SRIKANTH</td>\n",
              "      <td>Axis Bank Ltd</td>\n",
              "      <td>NaN</td>\n",
              "      <td>7 Year(s) 11 Month(s)</td>\n",
              "      <td>Hyderabad/ Secunderabad</td>\n",
              "      <td>NaN</td>\n",
              "      <td>MBA/ PGDM</td>\n",
              "      <td>Rs. 7.0 lacs</td>\n",
              "      <td>HYDERABAD-SALARIED</td>\n",
              "    </tr>\n",
              "    <tr>\n",
              "      <th>4</th>\n",
              "      <td>Madduri Srinivas</td>\n",
              "      <td>CTS</td>\n",
              "      <td>Associate Projects</td>\n",
              "      <td>6 Year(s) 8 Month(s)</td>\n",
              "      <td>Hyderabad/ Secunderabad</td>\n",
              "      <td>B.Com. (Commerce)</td>\n",
              "      <td>MCA/ PGDCA</td>\n",
              "      <td>Rs. 8.05 lacs</td>\n",
              "      <td>HYDERABAD-SALARIED</td>\n",
              "    </tr>\n",
              "  </tbody>\n",
              "</table>\n",
              "</div>"
            ],
            "text/plain": [
              "      candidateName                            companyName  \\\n",
              "0   Ruchismita Dash                                Amdocs    \n",
              "1       MANISHA DAS  APOLLO HOSPITALS ENTERPRISES LIMITED    \n",
              "2  C J GEETHA PRIYA                   propertyoneshop.com    \n",
              "3          SRIKANTH                         Axis Bank Ltd    \n",
              "4  Madduri Srinivas                                   CTS    \n",
              "\n",
              "                   designation          experienceMas  \\\n",
              "0           Software Developer   2 Year(s) 1 Month(s)   \n",
              "1  SENIOR EXECUTIVE-OPERATIONS   5 Year(s) 9 Month(s)   \n",
              "2         System Administrator   4 Year(s) 4 Month(s)   \n",
              "3                          NaN  7 Year(s) 11 Month(s)   \n",
              "4           Associate Projects   6 Year(s) 8 Month(s)   \n",
              "\n",
              "        locationCurrentMas          qualificationMas    qualificationMas2  \\\n",
              "0  Hyderabad/ Secunderabad  BE/ B.Tech (Engineering)                  NaN   \n",
              "1  Hyderabad/ Secunderabad                 MBA/ PGDM  B.Pharm. (Pharmacy)   \n",
              "2  Hyderabad/ Secunderabad         B.Com. (Commerce)                  NaN   \n",
              "3  Hyderabad/ Secunderabad                       NaN            MBA/ PGDM   \n",
              "4  Hyderabad/ Secunderabad         B.Com. (Commerce)           MCA/ PGDCA   \n",
              "\n",
              "          salary            Category  \n",
              "0  Rs. 6.71 lacs  HYDERABAD-SALARIED  \n",
              "1   Rs. 5.0 lacs  HYDERABAD-SALARIED  \n",
              "2  Rs. 84.0 lacs  HYDERABAD-SALARIED  \n",
              "3   Rs. 7.0 lacs  HYDERABAD-SALARIED  \n",
              "4  Rs. 8.05 lacs  HYDERABAD-SALARIED  "
            ]
          },
          "execution_count": 6,
          "metadata": {},
          "output_type": "execute_result"
        }
      ],
      "source": [
        "# Load the dataset\n",
        "df = pd.read_csv(\"../input/hyderabad-salaried-employees-dataset-clustering/hyderabad-salaried-employees.csv\")\n",
        "\n",
        "# Display the first few rows of the dataset for an initial overview\n",
        "df.head()"
      ]
    },
    {
      "cell_type": "markdown",
      "metadata": {
        "id": "wxE4h4d43WpU"
      },
      "source": [
        "<a id=\"3\"></a> <br>\n",
        "\n",
        "## Section 3: Data Information"
      ]
    },
    {
      "cell_type": "code",
      "execution_count": null,
      "metadata": {},
      "outputs": [],
      "source": [
        "# Purpose: Provide an overview of the dataset, including the number of rows, columns, and data types."
      ]
    },
    {
      "cell_type": "code",
      "execution_count": null,
      "metadata": {
        "execution": {
          "iopub.execute_input": "2022-02-11T09:00:10.191864Z",
          "iopub.status.busy": "2022-02-11T09:00:10.191301Z",
          "iopub.status.idle": "2022-02-11T09:00:10.239529Z",
          "shell.execute_reply": "2022-02-11T09:00:10.238650Z",
          "shell.execute_reply.started": "2022-02-11T09:00:10.191818Z"
        },
        "id": "80cFgZTE3WpV",
        "outputId": "072589dc-0a13-4307-fa50-eb69d0f0c6d7",
        "trusted": true
      },
      "outputs": [
        {
          "name": "stdout",
          "output_type": "stream",
          "text": [
            "<class 'pandas.core.frame.DataFrame'>\n",
            "RangeIndex: 28847 entries, 0 to 28846\n",
            "Data columns (total 9 columns):\n",
            " #   Column              Non-Null Count  Dtype \n",
            "---  ------              --------------  ----- \n",
            " 0   candidateName       28843 non-null  object\n",
            " 1   companyName         28806 non-null  object\n",
            " 2   designation         24217 non-null  object\n",
            " 3   experienceMas       28847 non-null  object\n",
            " 4   locationCurrentMas  28847 non-null  object\n",
            " 5   qualificationMas    23971 non-null  object\n",
            " 6   qualificationMas2   15449 non-null  object\n",
            " 7   salary              28847 non-null  object\n",
            " 8   Category            28847 non-null  object\n",
            "dtypes: object(9)\n",
            "memory usage: 2.0+ MB\n"
          ]
        }
      ],
      "source": [
        "# Display information about the dataset, including data types and non-null counts\n",
        "df.info()"
      ]
    },
    {
      "cell_type": "code",
      "execution_count": null,
      "metadata": {},
      "outputs": [],
      "source": [
        "# Purpose: Provide summary statistics for the dataset, including measures like mean, min, max, and quartiles."
      ]
    },
    {
      "cell_type": "code",
      "execution_count": null,
      "metadata": {
        "execution": {
          "iopub.execute_input": "2022-02-11T09:00:11.597282Z",
          "iopub.status.busy": "2022-02-11T09:00:11.596993Z",
          "iopub.status.idle": "2022-02-11T09:00:11.701772Z",
          "shell.execute_reply": "2022-02-11T09:00:11.701039Z",
          "shell.execute_reply.started": "2022-02-11T09:00:11.597251Z"
        },
        "id": "A1jttDC73WpV",
        "outputId": "be134927-f3d4-494e-da19-18fbf545e6d9",
        "trusted": true
      },
      "outputs": [
        {
          "data": {
            "text/html": [
              "<div>\n",
              "<style scoped>\n",
              "    .dataframe tbody tr th:only-of-type {\n",
              "        vertical-align: middle;\n",
              "    }\n",
              "\n",
              "    .dataframe tbody tr th {\n",
              "        vertical-align: top;\n",
              "    }\n",
              "\n",
              "    .dataframe thead th {\n",
              "        text-align: right;\n",
              "    }\n",
              "</style>\n",
              "<table border=\"1\" class=\"dataframe\">\n",
              "  <thead>\n",
              "    <tr style=\"text-align: right;\">\n",
              "      <th></th>\n",
              "      <th>candidateName</th>\n",
              "      <th>companyName</th>\n",
              "      <th>designation</th>\n",
              "      <th>experienceMas</th>\n",
              "      <th>locationCurrentMas</th>\n",
              "      <th>qualificationMas</th>\n",
              "      <th>qualificationMas2</th>\n",
              "      <th>salary</th>\n",
              "      <th>Category</th>\n",
              "    </tr>\n",
              "  </thead>\n",
              "  <tbody>\n",
              "    <tr>\n",
              "      <th>count</th>\n",
              "      <td>28843</td>\n",
              "      <td>28806</td>\n",
              "      <td>24217</td>\n",
              "      <td>28847</td>\n",
              "      <td>28847</td>\n",
              "      <td>23971</td>\n",
              "      <td>15449</td>\n",
              "      <td>28847</td>\n",
              "      <td>28847</td>\n",
              "    </tr>\n",
              "    <tr>\n",
              "      <th>unique</th>\n",
              "      <td>27288</td>\n",
              "      <td>15153</td>\n",
              "      <td>12636</td>\n",
              "      <td>492</td>\n",
              "      <td>3</td>\n",
              "      <td>51</td>\n",
              "      <td>48</td>\n",
              "      <td>1560</td>\n",
              "      <td>1</td>\n",
              "    </tr>\n",
              "    <tr>\n",
              "      <th>top</th>\n",
              "      <td>- -</td>\n",
              "      <td>Currently Unemployed</td>\n",
              "      <td>Currently Unemployed</td>\n",
              "      <td>10 Year(s)</td>\n",
              "      <td>Hyderabad/ Secunderabad</td>\n",
              "      <td>BE/ B.Tech (Engineering)</td>\n",
              "      <td>MBA/ PGDM</td>\n",
              "      <td>Rs. 6.0 lacs</td>\n",
              "      <td>HYDERABAD-SALARIED</td>\n",
              "    </tr>\n",
              "    <tr>\n",
              "      <th>freq</th>\n",
              "      <td>27</td>\n",
              "      <td>804</td>\n",
              "      <td>778</td>\n",
              "      <td>966</td>\n",
              "      <td>28841</td>\n",
              "      <td>8922</td>\n",
              "      <td>5448</td>\n",
              "      <td>1695</td>\n",
              "      <td>28847</td>\n",
              "    </tr>\n",
              "  </tbody>\n",
              "</table>\n",
              "</div>"
            ],
            "text/plain": [
              "       candidateName            companyName           designation  \\\n",
              "count          28843                  28806                 24217   \n",
              "unique         27288                  15153                 12636   \n",
              "top              - -  Currently Unemployed   Currently Unemployed   \n",
              "freq              27                    804                   778   \n",
              "\n",
              "       experienceMas       locationCurrentMas          qualificationMas  \\\n",
              "count          28847                    28847                     23971   \n",
              "unique           492                        3                        51   \n",
              "top      10 Year(s)   Hyderabad/ Secunderabad  BE/ B.Tech (Engineering)   \n",
              "freq             966                    28841                      8922   \n",
              "\n",
              "       qualificationMas2        salary            Category  \n",
              "count              15449         28847               28847  \n",
              "unique                48          1560                   1  \n",
              "top            MBA/ PGDM  Rs. 6.0 lacs  HYDERABAD-SALARIED  \n",
              "freq                5448          1695               28847  "
            ]
          },
          "execution_count": 8,
          "metadata": {},
          "output_type": "execute_result"
        }
      ],
      "source": [
        "# Generate summary statistics for the dataset\n",
        "df.describe()"
      ]
    },
    {
      "cell_type": "markdown",
      "metadata": {
        "id": "NGy5qQ-K3WpW"
      },
      "source": [
        "<a id=\"4\"></a> <br>\n",
        "\n",
        "## Section 4: Data Cleaning"
      ]
    },
    {
      "cell_type": "code",
      "execution_count": null,
      "metadata": {},
      "outputs": [],
      "source": [
        "# Purpose: Prepare the dataset for analysis by addressing data quality issues, including missing values, formatting, and encoding."
      ]
    },
    {
      "cell_type": "code",
      "execution_count": null,
      "metadata": {
        "execution": {
          "iopub.execute_input": "2022-02-11T09:00:13.545601Z",
          "iopub.status.busy": "2022-02-11T09:00:13.544913Z",
          "iopub.status.idle": "2022-02-11T09:00:13.579762Z",
          "shell.execute_reply": "2022-02-11T09:00:13.578881Z",
          "shell.execute_reply.started": "2022-02-11T09:00:13.545555Z"
        },
        "id": "Epnj9muL3WpX",
        "outputId": "d914476e-b780-4c2b-81a2-9b6ba1219f55",
        "trusted": true
      },
      "outputs": [
        {
          "data": {
            "text/plain": [
              "candidateName             4\n",
              "companyName              41\n",
              "designation            4630\n",
              "experienceMas             0\n",
              "locationCurrentMas        0\n",
              "qualificationMas       4876\n",
              "qualificationMas2     13398\n",
              "salary                    0\n",
              "Category                  0\n",
              "dtype: int64"
            ]
          },
          "execution_count": 9,
          "metadata": {},
          "output_type": "execute_result"
        }
      ],
      "source": [
        "# Check for missing values in each column\n",
        "missing_values = df.isna().sum()"
      ]
    },
    {
      "cell_type": "markdown",
      "metadata": {
        "id": "pw_G3rrJ3WpX"
      },
      "source": [
        "#### Checking Unique Values in each Column"
      ]
    },
    {
      "cell_type": "code",
      "execution_count": null,
      "metadata": {
        "execution": {
          "iopub.execute_input": "2022-02-11T09:00:14.609338Z",
          "iopub.status.busy": "2022-02-11T09:00:14.608757Z",
          "iopub.status.idle": "2022-02-11T09:00:14.651340Z",
          "shell.execute_reply": "2022-02-11T09:00:14.650583Z",
          "shell.execute_reply.started": "2022-02-11T09:00:14.609300Z"
        },
        "id": "MJ3TKa7m3WpX",
        "outputId": "c9c0c3c3-a9fc-4ceb-d1bd-2e1fcbcd1c83",
        "trusted": true
      },
      "outputs": [
        {
          "data": {
            "text/plain": [
              "candidateName         27288\n",
              "companyName           15153\n",
              "designation           12636\n",
              "experienceMas           492\n",
              "locationCurrentMas        3\n",
              "qualificationMas         51\n",
              "qualificationMas2        48\n",
              "salary                 1560\n",
              "Category                  1\n",
              "dtype: int64"
            ]
          },
          "execution_count": 10,
          "metadata": {},
          "output_type": "execute_result"
        }
      ],
      "source": [
        "# Check the number of unique values in each column\n",
        "unique_values = df.nunique()"
      ]
    },
    {
      "cell_type": "markdown",
      "metadata": {
        "id": "pSRqD1rB3WpY"
      },
      "source": [
        "#### Checking Values in 'locationCurrentMas'"
      ]
    },
    {
      "cell_type": "code",
      "execution_count": null,
      "metadata": {
        "execution": {
          "iopub.execute_input": "2022-02-11T09:00:15.508224Z",
          "iopub.status.busy": "2022-02-11T09:00:15.507600Z",
          "iopub.status.idle": "2022-02-11T09:00:15.519164Z",
          "shell.execute_reply": "2022-02-11T09:00:15.518304Z",
          "shell.execute_reply.started": "2022-02-11T09:00:15.508184Z"
        },
        "id": "Wil5CueW3WpY",
        "outputId": "37d9a326-59f7-4b20-ed8c-cbf1b39cce07",
        "trusted": true
      },
      "outputs": [
        {
          "data": {
            "text/plain": [
              "Hyderabad/ Secunderabad    28841\n",
              "Hyderabad                      3\n",
              "Hyderabad                      3\n",
              "Name: locationCurrentMas, dtype: int64"
            ]
          },
          "execution_count": 11,
          "metadata": {},
          "output_type": "execute_result"
        }
      ],
      "source": [
        "# Check the value counts in the 'locationCurrentMas' column to understand the distribution\n",
        "location_counts = df['locationCurrentMas'].value_counts()\n",
        "location_counts"
      ]
    },
    {
      "cell_type": "markdown",
      "metadata": {
        "id": "UxY2bjGK3WpY"
      },
      "source": [
        "#### Visualizing Missing Pattern in Dataset"
      ]
    },
    {
      "cell_type": "code",
      "execution_count": null,
      "metadata": {
        "execution": {
          "iopub.execute_input": "2022-02-11T09:00:16.411990Z",
          "iopub.status.busy": "2022-02-11T09:00:16.411156Z",
          "iopub.status.idle": "2022-02-11T09:00:16.902500Z",
          "shell.execute_reply": "2022-02-11T09:00:16.901651Z",
          "shell.execute_reply.started": "2022-02-11T09:00:16.411939Z"
        },
        "id": "V0STLHHg3WpY",
        "outputId": "f62543a0-993d-4ef1-a0a9-47acd9c99588",
        "trusted": true
      },
      "outputs": [
        {
          "data": {
            "text/plain": [
              "<AxesSubplot:>"
            ]
          },
          "execution_count": 12,
          "metadata": {},
          "output_type": "execute_result"
        },
        {
          "data": {
            "image/png": "[encoded data removed]",
            "text/plain": [
              "<Figure size 720x288 with 2 Axes>"
            ]
          },
          "metadata": {
            "needs_background": "light"
          },
          "output_type": "display_data"
        }
      ],
      "source": [
        "# Visualize the missing value pattern in the dataset\n",
        "msno.matrix(df, figsize=(10, 4), fontsize=10)"
      ]
    },
    {
      "cell_type": "markdown",
      "metadata": {
        "id": "FQ0yHI4G3WpZ"
      },
      "source": [
        "#### Droping Rows from Some Columns containing NaN Values"
      ]
    },
    {
      "cell_type": "code",
      "execution_count": null,
      "metadata": {
        "execution": {
          "iopub.execute_input": "2022-02-11T09:00:17.372418Z",
          "iopub.status.busy": "2022-02-11T09:00:17.372031Z",
          "iopub.status.idle": "2022-02-11T09:00:17.402256Z",
          "shell.execute_reply": "2022-02-11T09:00:17.401538Z",
          "shell.execute_reply.started": "2022-02-11T09:00:17.372390Z"
        },
        "id": "ediaxS5Z3WpZ",
        "trusted": true
      },
      "outputs": [],
      "source": [
        "# Drop rows containing NaN values in specific columns\n",
        "columns_to_check_for_nan = ['companyName', 'designation', 'candidateName', 'Category', 'locationCurrentMas']\n",
        "df.dropna(axis=0, inplace=True, subset=columns_to_check_for_nan)\n",
        "\n",
        "# Create a copy of the cleaned dataset for final processing\n",
        "final = df.copy(deep=True)"
      ]
    },
    {
      "cell_type": "code",
      "execution_count": null,
      "metadata": {
        "execution": {
          "iopub.execute_input": "2022-02-11T09:00:19.190760Z",
          "iopub.status.busy": "2022-02-11T09:00:19.190479Z",
          "iopub.status.idle": "2022-02-11T09:00:19.624127Z",
          "shell.execute_reply": "2022-02-11T09:00:19.622980Z",
          "shell.execute_reply.started": "2022-02-11T09:00:19.190726Z"
        },
        "id": "o1ZEzuYr3Wpa",
        "outputId": "5f8ac47c-ed87-4aa0-be96-914df5964f5c",
        "trusted": true
      },
      "outputs": [
        {
          "data": {
            "text/plain": [
              "<AxesSubplot:>"
            ]
          },
          "execution_count": 14,
          "metadata": {},
          "output_type": "execute_result"
        },
        {
          "data": {
            "image/png": "[encoded data removed]",
            "text/plain": [
              "<Figure size 720x288 with 2 Axes>"
            ]
          },
          "metadata": {
            "needs_background": "light"
          },
          "output_type": "display_data"
        }
      ],
      "source": [
        "# Replace \"NaN\" values in 'qualificationMas' and 'qualificationMas2' with \"Missing\" (str)\n",
        "df['qualificationMas'].fillna(value='Missing', inplace=True)\n",
        "df['qualificationMas2'].fillna(value='Missing', inplace=True)\n",
        "\n",
        "# Visualize the updated missing value pattern\n",
        "msno.matrix(df, figsize=(10, 4), fontsize=10)"
      ]
    },
    {
      "cell_type": "markdown",
      "metadata": {
        "id": "LqdnXTEN3Wpa"
      },
      "source": [
        "#### Droping Irrelevant Columns"
      ]
    },
    {
      "cell_type": "code",
      "execution_count": null,
      "metadata": {
        "execution": {
          "iopub.execute_input": "2022-02-11T09:00:21.198361Z",
          "iopub.status.busy": "2022-02-11T09:00:21.198104Z",
          "iopub.status.idle": "2022-02-11T09:00:21.205167Z",
          "shell.execute_reply": "2022-02-11T09:00:21.204250Z",
          "shell.execute_reply.started": "2022-02-11T09:00:21.198333Z"
        },
        "id": "LZA4m2RQ3Wpa",
        "trusted": true
      },
      "outputs": [],
      "source": [
        "# Drop irrelevant columns\n",
        "columns_to_drop = ['candidateName', 'Category', 'locationCurrentMas']\n",
        "df.drop(columns=columns_to_drop, inplace=True)"
      ]
    },
    {
      "cell_type": "markdown",
      "metadata": {
        "id": "UoEVP9dt3Wpb"
      },
      "source": [
        "#### Formatting Columns Data in Usable Form"
      ]
    },
    {
      "cell_type": "code",
      "execution_count": null,
      "metadata": {
        "execution": {
          "iopub.execute_input": "2022-02-11T09:00:22.955471Z",
          "iopub.status.busy": "2022-02-11T09:00:22.954756Z",
          "iopub.status.idle": "2022-02-11T09:00:34.839529Z",
          "shell.execute_reply": "2022-02-11T09:00:34.838979Z",
          "shell.execute_reply.started": "2022-02-11T09:00:22.955413Z"
        },
        "id": "33P9b94F3Wpb",
        "outputId": "49e7a50b-205a-4384-9756-dec669c8bd0c",
        "trusted": true
      },
      "outputs": [
        {
          "data": {
            "text/html": [
              "<div>\n",
              "<style scoped>\n",
              "    .dataframe tbody tr th:only-of-type {\n",
              "        vertical-align: middle;\n",
              "    }\n",
              "\n",
              "    .dataframe tbody tr th {\n",
              "        vertical-align: top;\n",
              "    }\n",
              "\n",
              "    .dataframe thead th {\n",
              "        text-align: right;\n",
              "    }\n",
              "</style>\n",
              "<table border=\"1\" class=\"dataframe\">\n",
              "  <thead>\n",
              "    <tr style=\"text-align: right;\">\n",
              "      <th></th>\n",
              "      <th>companyName</th>\n",
              "      <th>designation</th>\n",
              "      <th>experienceMas</th>\n",
              "      <th>qualificationMas</th>\n",
              "      <th>qualificationMas2</th>\n",
              "      <th>salary</th>\n",
              "    </tr>\n",
              "  </thead>\n",
              "  <tbody>\n",
              "    <tr>\n",
              "      <th>0</th>\n",
              "      <td>777</td>\n",
              "      <td>9365</td>\n",
              "      <td>25.0</td>\n",
              "      <td>15</td>\n",
              "      <td>43</td>\n",
              "      <td>6.71</td>\n",
              "    </tr>\n",
              "    <tr>\n",
              "      <th>1</th>\n",
              "      <td>265</td>\n",
              "      <td>7708</td>\n",
              "      <td>69.0</td>\n",
              "      <td>38</td>\n",
              "      <td>4</td>\n",
              "      <td>5.00</td>\n",
              "    </tr>\n",
              "    <tr>\n",
              "      <th>2</th>\n",
              "      <td>12683</td>\n",
              "      <td>10809</td>\n",
              "      <td>52.0</td>\n",
              "      <td>2</td>\n",
              "      <td>43</td>\n",
              "      <td>84.00</td>\n",
              "    </tr>\n",
              "    <tr>\n",
              "      <th>4</th>\n",
              "      <td>1928</td>\n",
              "      <td>1430</td>\n",
              "      <td>80.0</td>\n",
              "      <td>2</td>\n",
              "      <td>33</td>\n",
              "      <td>8.05</td>\n",
              "    </tr>\n",
              "    <tr>\n",
              "      <th>5</th>\n",
              "      <td>7180</td>\n",
              "      <td>10090</td>\n",
              "      <td>242.0</td>\n",
              "      <td>45</td>\n",
              "      <td>48</td>\n",
              "      <td>16.00</td>\n",
              "    </tr>\n",
              "  </tbody>\n",
              "</table>\n",
              "</div>"
            ],
            "text/plain": [
              "   companyName  designation  experienceMas  qualificationMas  \\\n",
              "0          777         9365           25.0                15   \n",
              "1          265         7708           69.0                38   \n",
              "2        12683        10809           52.0                 2   \n",
              "4         1928         1430           80.0                 2   \n",
              "5         7180        10090          242.0                45   \n",
              "\n",
              "   qualificationMas2  salary  \n",
              "0                 43    6.71  \n",
              "1                  4    5.00  \n",
              "2                 43   84.00  \n",
              "4                 33    8.05  \n",
              "5                 48   16.00  "
            ]
          },
          "execution_count": 16,
          "metadata": {},
          "output_type": "execute_result"
        }
      ],
      "source": [
        "# Format columns for usability\n",
        "# Convert 'Rs. X Lakhs' [Object] in 'X'[float]\n",
        "df['salary'] = df['salary'].astype('str')\n",
        "df['salary'] = df['salary'].apply(lambda x: x.replace('Rs. ', '').replace(' lacs', '')).astype(np.float64)\n",
        "\n",
        "# Convert 'A Year(s) B Month(s)' [object] into Month(s) [float]\n",
        "def process_exp(dataframe, colid):\n",
        "    # Process experience format\n",
        "    dataframe['experienceMas'] = dataframe['experienceMas'].astype('str')\n",
        "    dataframe['experienceMas'].replace('Fresher', '0 Year(s) 0 Month(s)', inplace=True)\n",
        "\n",
        "    for rowid in range(dataframe.shape[0]):\n",
        "        element = dataframe.iloc[rowid, colid].split(' ')\n",
        "        if len(element) == 4:\n",
        "            year, month = element[0], element[2]\n",
        "        else:\n",
        "            year, month = element[0], 0\n",
        "        dataframe.iloc[rowid, colid] = (12 * float(year)) + float(month)\n",
        "\n",
        "    dataframe.iloc[:, 2] = pd.to_numeric(dataframe.experienceMas)\n",
        "    return dataframe\n",
        "\n",
        "df = process_exp(dataframe=df, colid=2)\n",
        "\n",
        "# Label encoding for categorical columns\n",
        "le = LabelEncoder()\n",
        "for col in df.select_dtypes(include=['object']).columns:\n",
        "    df[col] = le.fit_transform(df[col])\n",
        "\n",
        "# Display the first few rows of the cleaned and formatted dataset\n",
        "df.head()"
      ]
    },
    {
      "cell_type": "markdown",
      "metadata": {
        "id": "RBFC7sst3Wpc"
      },
      "source": [
        "<a id=\"5\"></a> <br>\n",
        "\n",
        "## 5. Data Transformation"
      ]
    },
    {
      "cell_type": "markdown",
      "metadata": {
        "id": "WCzUCDQZ3Wpc"
      },
      "source": [
        "## Normalize Data to fit into Clustering Algorithmv"
      ]
    },
    {
      "cell_type": "code",
      "execution_count": null,
      "metadata": {
        "execution": {
          "iopub.execute_input": "2022-02-11T09:00:34.841083Z",
          "iopub.status.busy": "2022-02-11T09:00:34.840757Z",
          "iopub.status.idle": "2022-02-11T09:00:34.856490Z",
          "shell.execute_reply": "2022-02-11T09:00:34.855706Z",
          "shell.execute_reply.started": "2022-02-11T09:00:34.841057Z"
        },
        "id": "iweT6isx3Wpc",
        "outputId": "abb9a5a2-833b-4532-aa17-6ad7130408a4",
        "trusted": true
      },
      "outputs": [
        {
          "data": {
            "text/html": [
              "<div>\n",
              "<style scoped>\n",
              "    .dataframe tbody tr th:only-of-type {\n",
              "        vertical-align: middle;\n",
              "    }\n",
              "\n",
              "    .dataframe tbody tr th {\n",
              "        vertical-align: top;\n",
              "    }\n",
              "\n",
              "    .dataframe thead th {\n",
              "        text-align: right;\n",
              "    }\n",
              "</style>\n",
              "<table border=\"1\" class=\"dataframe\">\n",
              "  <thead>\n",
              "    <tr style=\"text-align: right;\">\n",
              "      <th></th>\n",
              "      <th>companyName</th>\n",
              "      <th>designation</th>\n",
              "      <th>experienceMas</th>\n",
              "      <th>qualificationMas</th>\n",
              "      <th>qualificationMas2</th>\n",
              "      <th>salary</th>\n",
              "    </tr>\n",
              "  </thead>\n",
              "  <tbody>\n",
              "    <tr>\n",
              "      <th>0</th>\n",
              "      <td>0.000695</td>\n",
              "      <td>0.008324</td>\n",
              "      <td>0.001108</td>\n",
              "      <td>0.004041</td>\n",
              "      <td>0.007620</td>\n",
              "      <td>0.001818</td>\n",
              "    </tr>\n",
              "    <tr>\n",
              "      <th>1</th>\n",
              "      <td>0.000237</td>\n",
              "      <td>0.006851</td>\n",
              "      <td>0.003058</td>\n",
              "      <td>0.010237</td>\n",
              "      <td>0.000709</td>\n",
              "      <td>0.001355</td>\n",
              "    </tr>\n",
              "    <tr>\n",
              "      <th>2</th>\n",
              "      <td>0.011345</td>\n",
              "      <td>0.009607</td>\n",
              "      <td>0.002305</td>\n",
              "      <td>0.000539</td>\n",
              "      <td>0.007620</td>\n",
              "      <td>0.022758</td>\n",
              "    </tr>\n",
              "    <tr>\n",
              "      <th>3</th>\n",
              "      <td>0.001725</td>\n",
              "      <td>0.001271</td>\n",
              "      <td>0.003546</td>\n",
              "      <td>0.000539</td>\n",
              "      <td>0.005848</td>\n",
              "      <td>0.002181</td>\n",
              "    </tr>\n",
              "    <tr>\n",
              "      <th>4</th>\n",
              "      <td>0.006422</td>\n",
              "      <td>0.008968</td>\n",
              "      <td>0.010726</td>\n",
              "      <td>0.012123</td>\n",
              "      <td>0.008506</td>\n",
              "      <td>0.004335</td>\n",
              "    </tr>\n",
              "  </tbody>\n",
              "</table>\n",
              "</div>"
            ],
            "text/plain": [
              "   companyName  designation  experienceMas  qualificationMas  \\\n",
              "0     0.000695     0.008324       0.001108          0.004041   \n",
              "1     0.000237     0.006851       0.003058          0.010237   \n",
              "2     0.011345     0.009607       0.002305          0.000539   \n",
              "3     0.001725     0.001271       0.003546          0.000539   \n",
              "4     0.006422     0.008968       0.010726          0.012123   \n",
              "\n",
              "   qualificationMas2    salary  \n",
              "0           0.007620  0.001818  \n",
              "1           0.000709  0.001355  \n",
              "2           0.007620  0.022758  \n",
              "3           0.005848  0.002181  \n",
              "4           0.008506  0.004335  "
            ]
          },
          "execution_count": 17,
          "metadata": {},
          "output_type": "execute_result"
        }
      ],
      "source": [
        "data = pd.DataFrame(normalize(df,axis=0), columns=df.columns)\n",
        "data.head()"
      ]
    },
    {
      "cell_type": "markdown",
      "metadata": {
        "id": "_2SWGaR13Wpd"
      },
      "source": [
        "<a id=\"6\"></a> <br>\n",
        "\n",
        "## Section 6: Data Reduction"
      ]
    },
    {
      "cell_type": "code",
      "execution_count": null,
      "metadata": {},
      "outputs": [],
      "source": [
        "# Purpose: Reduce the dimensionality of the dataset to make it suitable for visualization and clustering."
      ]
    },
    {
      "cell_type": "markdown",
      "metadata": {
        "id": "vmf7z_pc3Wpd"
      },
      "source": [
        "#### Checking Correlation Between Columns"
      ]
    },
    {
      "cell_type": "code",
      "execution_count": null,
      "metadata": {
        "execution": {
          "iopub.execute_input": "2022-02-11T09:00:34.857926Z",
          "iopub.status.busy": "2022-02-11T09:00:34.857701Z",
          "iopub.status.idle": "2022-02-11T09:00:35.341944Z",
          "shell.execute_reply": "2022-02-11T09:00:35.341134Z",
          "shell.execute_reply.started": "2022-02-11T09:00:34.857898Z"
        },
        "id": "3pKhC6Wl3Wpd",
        "outputId": "5e5b48d0-0925-4ba6-c889-cb0029752572",
        "trusted": true
      },
      "outputs": [
        {
          "data": {
            "text/plain": [
              "<AxesSubplot:>"
            ]
          },
          "execution_count": 18,
          "metadata": {},
          "output_type": "execute_result"
        },
        {
          "data": {
            "image/png": "[encoded data removed]",
            "text/plain": [
              "<Figure size 432x288 with 2 Axes>"
            ]
          },
          "metadata": {
            "needs_background": "light"
          },
          "output_type": "display_data"
        }
      ],
      "source": [
        "plt.figure(figsize=(10, 8))\n",
        "sns.heatmap(data.corr(), vmin=-1, vmax=1, annot=True)\n",
        "plt.title(\"Correlation Heatmap\")"
      ]
    },
    {
      "cell_type": "markdown",
      "metadata": {
        "id": "mAXIwXxe3Wpd"
      },
      "source": [
        "#### Principal Component Analysis\n",
        "\n",
        ">Visualizing clustered scatter plot of such a high-dimensional data isn't feasible.\n",
        "\n",
        "> To get two of all columns for such a plot, I utilized the Principal Component Analysis.\n"
      ]
    },
    {
      "cell_type": "code",
      "execution_count": null,
      "metadata": {
        "execution": {
          "iopub.execute_input": "2022-02-11T09:00:35.343804Z",
          "iopub.status.busy": "2022-02-11T09:00:35.343579Z",
          "iopub.status.idle": "2022-02-11T09:00:35.405385Z",
          "shell.execute_reply": "2022-02-11T09:00:35.404385Z",
          "shell.execute_reply.started": "2022-02-11T09:00:35.343776Z"
        },
        "id": "TU4Nn01L3Wpd",
        "trusted": true
      },
      "outputs": [],
      "source": [
        "# Define the PCA transformation with 2 components\n",
        "pca = PCA(n_components=2)\n",
        "\n",
        "# Fit the PCA transformation on the dataset\n",
        "pca.fit(data)\n",
        "\n",
        "# Apply the transformation to the dataset to obtain two principal components\n",
        "data = pca.transform(data)"
      ]
    },
    {
      "cell_type": "markdown",
      "metadata": {
        "id": "XRbwcQkV3Wpe"
      },
      "source": [
        "<a id=\"7\"></a> <br>\n",
        "\n",
        "## Section 7: Find Optimal Value of K"
      ]
    },
    {
      "cell_type": "markdown",
      "metadata": {
        "id": "UjodpS3V3Wpe"
      },
      "source": [
        "#### Elbow Method"
      ]
    },
    {
      "cell_type": "code",
      "execution_count": null,
      "metadata": {
        "execution": {
          "iopub.execute_input": "2022-02-11T09:00:35.408261Z",
          "iopub.status.busy": "2022-02-11T09:00:35.406762Z",
          "iopub.status.idle": "2022-02-11T09:00:45.744533Z",
          "shell.execute_reply": "2022-02-11T09:00:45.743824Z",
          "shell.execute_reply.started": "2022-02-11T09:00:35.408214Z"
        },
        "id": "E1Aj-vDK3Wpe",
        "outputId": "474f2345-9f75-4777-f859-91bfa1347469",
        "trusted": true
      },
      "outputs": [
        {
          "data": {
            "image/png": "[encoded data removed]",
            "text/plain": [
              "<Figure size 432x288 with 1 Axes>"
            ]
          },
          "metadata": {
            "needs_background": "light"
          },
          "output_type": "display_data"
        }
      ],
      "source": [
        "# Purpose: Determine the optimal number of clusters (K) for the K-Means algorithm using the Elbow Method.\n",
        "\n",
        "# Calculate the sum of squared distances (inertia) for different values of K\n",
        "Sum_of_squared_distances = []\n",
        "K = range(2, 9)\n",
        "\n",
        "for num_clusters in K:\n",
        "    kmeans = KMeans(n_clusters=num_clusters)\n",
        "    kmeans.fit(data)\n",
        "    Sum_of_squared_distances.append(kmeans.inertia_)\n",
        "\n",
        "# Plot the Elbow Method graph to find the optimal K\n",
        "plt.figure(figsize=(8, 4))\n",
        "plt.plot(K, Sum_of_squared_distances, 'x-')\n",
        "plt.xlabel('Values of K')\n",
        "plt.ylabel('Sum of squared distances (Inertia)')\n",
        "plt.title('Elbow Method For Optimal K')\n",
        "plt.show()"
      ]
    },
    {
      "cell_type": "markdown",
      "metadata": {
        "id": "Fss9viLl3Wpe"
      },
      "source": [
        "### Statistical Metrics for achieving optimal 'k'\n",
        "\n",
        "> Silhouette score, Calinski Harabasz (CH) Score and Davies Bouldin (DB) score are plotted for clustering at varying 'k'.\n",
        "\n",
        "> The value of 'k' which maximises the first two while minimizes the DB score metric is considered to be the optimal choice."
      ]
    },
    {
      "cell_type": "markdown",
      "metadata": {
        "id": "tyovarwT3Wpe"
      },
      "source": [
        "#### Silhouette analysis"
      ]
    },
    {
      "cell_type": "code",
      "execution_count": null,
      "metadata": {
        "execution": {
          "iopub.execute_input": "2022-02-11T09:00:45.748171Z",
          "iopub.status.busy": "2022-02-11T09:00:45.747880Z",
          "iopub.status.idle": "2022-02-11T09:01:45.282633Z",
          "shell.execute_reply": "2022-02-11T09:01:45.281758Z",
          "shell.execute_reply.started": "2022-02-11T09:00:45.748138Z"
        },
        "id": "MHsaVBYd3Wpf",
        "outputId": "28fb497e-3fe9-4f53-f6fc-382e3cde867b",
        "trusted": true
      },
      "outputs": [
        {
          "data": {
            "image/png": "[encoded data removed]",
            "text/plain": [
              "<Figure size 432x288 with 1 Axes>"
            ]
          },
          "metadata": {
            "needs_background": "light"
          },
          "output_type": "display_data"
        }
      ],
      "source": [
        "# Define a range of values for K\n",
        "range_n_clusters = [2, 3, 4, 5, 6, 7, 8]\n",
        "\n",
        "# Initialize lists to store the scores\n",
        "silhouette_avg = []\n",
        "\n",
        "for num_clusters in range_n_clusters:\n",
        "    # Initialize K-Means with the current number of clusters\n",
        "    kmeans = KMeans(n_clusters=num_clusters)\n",
        "    kmeans.fit(data)\n",
        "    cluster_labels = kmeans.labels_\n",
        "\n",
        "    # Silhouette score\n",
        "    silhouette_avg.append(silhouette_score(data, cluster_labels))\n",
        "\n",
        "# Plot Silhouette analysis\n",
        "plt.figure(figsize=(8, 4))\n",
        "plt.plot(range_n_clusters, silhouette_avg, 'x-')\n",
        "plt.xlabel('Values of K')\n",
        "plt.ylabel('Silhouette Score')\n",
        "plt.title('Silhouette Analysis For Optimal K')\n",
        "plt.show()"
      ]
    },
    {
      "cell_type": "markdown",
      "metadata": {
        "id": "DvANjFkL3Wpf"
      },
      "source": [
        "#### Calinski Harabasz Score"
      ]
    },
    {
      "cell_type": "code",
      "execution_count": null,
      "metadata": {
        "execution": {
          "iopub.execute_input": "2022-02-11T09:01:45.285540Z",
          "iopub.status.busy": "2022-02-11T09:01:45.285235Z",
          "iopub.status.idle": "2022-02-11T09:01:55.271855Z",
          "shell.execute_reply": "2022-02-11T09:01:55.270991Z",
          "shell.execute_reply.started": "2022-02-11T09:01:45.285501Z"
        },
        "id": "XgSK3nfz3Wpf",
        "outputId": "087b726d-054d-4d82-da4d-678953dc0881",
        "trusted": true
      },
      "outputs": [
        {
          "data": {
            "image/png": "[encoded data removed]",
            "text/plain": [
              "<Figure size 432x288 with 1 Axes>"
            ]
          },
          "metadata": {
            "needs_background": "light"
          },
          "output_type": "display_data"
        }
      ],
      "source": [
        "# Define a range of values for K\n",
        "range_n_clusters = [2, 3, 4, 5, 6, 7, 8]\n",
        "\n",
        "# Initialize lists to store the scores\n",
        "calinski_harabasz_scores = []\n",
        "\n",
        "for num_clusters in range_n_clusters:\n",
        "    # Initialize K-Means with the current number of clusters\n",
        "    kmeans = KMeans(n_clusters=num_clusters)\n",
        "    kmeans.fit(data)\n",
        "    cluster_labels = kmeans.labels_\n",
        "    \n",
        "    # Calinski-Harabasz (CH) score\n",
        "    calinski_harabasz_scores.append(calinski_harabasz_score(data, cluster_labels))\n",
        "\n",
        "# Plot CH score analysis\n",
        "plt.figure(figsize=(8, 4))\n",
        "plt.plot(range_n_clusters, calinski_harabasz_scores, 'x-')\n",
        "plt.xlabel('Values of K')\n",
        "plt.ylabel('Calinski-Harabasz (CH) Score')\n",
        "plt.title('Calinski-Harabasz Score Analysis For Optimal K')\n",
        "plt.show()\n"
      ]
    },
    {
      "cell_type": "markdown",
      "metadata": {
        "id": "-yFjvj1k3Wpf"
      },
      "source": [
        "#### Davies Bouldin Score"
      ]
    },
    {
      "cell_type": "code",
      "execution_count": null,
      "metadata": {
        "execution": {
          "iopub.execute_input": "2022-02-11T09:01:55.273431Z",
          "iopub.status.busy": "2022-02-11T09:01:55.273022Z",
          "iopub.status.idle": "2022-02-11T09:02:04.774338Z",
          "shell.execute_reply": "2022-02-11T09:02:04.773558Z",
          "shell.execute_reply.started": "2022-02-11T09:01:55.273398Z"
        },
        "id": "rOjg3_7y3Wpf",
        "outputId": "03885f26-2dfb-4247-8dfd-ddd7e126a47c",
        "trusted": true
      },
      "outputs": [
        {
          "data": {
            "image/png": "[encoded data removed]",
            "text/plain": [
              "<Figure size 432x288 with 1 Axes>"
            ]
          },
          "metadata": {
            "needs_background": "light"
          },
          "output_type": "display_data"
        }
      ],
      "source": [
        "# Define a range of values for K\n",
        "range_n_clusters = [2, 3, 4, 5, 6, 7, 8]\n",
        "\n",
        "# Initialize lists to store the scores\n",
        "davies_bouldin_scores = []\n",
        "\n",
        "for num_clusters in range_n_clusters:\n",
        "    # Initialize K-Means with the current number of clusters\n",
        "    kmeans = KMeans(n_clusters=num_clusters)\n",
        "    kmeans.fit(data)\n",
        "    cluster_labels = kmeans.labels_\n",
        "    \n",
        "    # Davies-Bouldin (DB) score\n",
        "    davies_bouldin_scores.append(davies_bouldin_score(data, cluster_labels))\n",
        "\n",
        "# Plot DB score analysis\n",
        "plt.figure(figsize=(8, 4))\n",
        "plt.plot(range_n_clusters, davies_bouldin_scores, 'x-')\n",
        "plt.xlabel('Values of K')\n",
        "plt.ylabel('Davies-Bouldin (DB) Score')\n",
        "plt.title('Davies-Bouldin Score Analysis For Optimal K')\n",
        "plt.show()"
      ]
    },
    {
      "cell_type": "markdown",
      "metadata": {
        "id": "TyZqSW-N3Wpg"
      },
      "source": [
        "<a id=\"8\"></a> <br>\n",
        "\n",
        "## Section 8: K-Means Clustering Algorithm"
      ]
    },
    {
      "cell_type": "code",
      "execution_count": null,
      "metadata": {
        "execution": {
          "iopub.execute_input": "2022-02-11T09:02:04.778043Z",
          "iopub.status.busy": "2022-02-11T09:02:04.777742Z",
          "iopub.status.idle": "2022-02-11T09:02:07.519210Z",
          "shell.execute_reply": "2022-02-11T09:02:07.518280Z",
          "shell.execute_reply.started": "2022-02-11T09:02:04.777997Z"
        },
        "id": "RW3AeXvq3Wpg",
        "outputId": "0f047324-0b13-43fb-ac2b-351a53637662",
        "trusted": true
      },
      "outputs": [
        {
          "data": {
            "image/png": "[encoded data removed]",
            "text/plain": [
              "<Figure size 720x432 with 1 Axes>"
            ]
          },
          "metadata": {
            "needs_background": "light"
          },
          "output_type": "display_data"
        }
      ],
      "source": [
        "# Purpose: Apply the K-Means clustering algorithm with the optimal number of clusters to the dataset and visualize the results.\n",
        "\n",
        "# Number of clusters based on the optimal K value determined earlier\n",
        "clusters = 5  # Replace with the optimal value from the analysis\n",
        "\n",
        "# Initialize K-Means with the chosen number of clusters and k-means++ initialization\n",
        "kmeans = KMeans(n_clusters=clusters, init='k-means++')\n",
        "kmeans.fit(data)\n",
        "pred = kmeans.predict(data)\n",
        "\n",
        "# Create a DataFrame with PCA features and cluster labels\n",
        "data = pd.DataFrame(data, columns=['pca_feature_1', 'pca_feature_2'])\n",
        "data['cluster'] = pred\n",
        "\n",
        "# Plot showing clusters using PCA-selected features\n",
        "import seaborn as sns\n",
        "plt.figure(figsize=(10, 6))\n",
        "sns.scatterplot(data=data, x='pca_feature_1', y='pca_feature_2', hue='cluster', palette=sns.color_palette(\"hls\", clusters), legend=\"full\")\n",
        "plt.title('Clustered Scatter Plot')\n",
        "plt.show()"
      ]
    },
    {
      "cell_type": "markdown",
      "metadata": {
        "id": "CyjmHvrr3Wpg"
      },
      "source": [
        "<a id=\"9\"></a> <br>\n",
        "## Section 9: Final Data [Clusters Assigned]"
      ]
    },
    {
      "cell_type": "code",
      "execution_count": null,
      "metadata": {
        "execution": {
          "iopub.execute_input": "2022-02-11T09:02:07.523189Z",
          "iopub.status.busy": "2022-02-11T09:02:07.520592Z",
          "iopub.status.idle": "2022-02-11T09:02:07.546763Z",
          "shell.execute_reply": "2022-02-11T09:02:07.545990Z",
          "shell.execute_reply.started": "2022-02-11T09:02:07.523141Z"
        },
        "id": "sP18B7ZU3Wpg",
        "outputId": "aaf02483-c203-46be-e585-970ecd9b40b1",
        "trusted": true
      },
      "outputs": [
        {
          "data": {
            "text/html": [
              "<div>\n",
              "<style scoped>\n",
              "    .dataframe tbody tr th:only-of-type {\n",
              "        vertical-align: middle;\n",
              "    }\n",
              "\n",
              "    .dataframe tbody tr th {\n",
              "        vertical-align: top;\n",
              "    }\n",
              "\n",
              "    .dataframe thead th {\n",
              "        text-align: right;\n",
              "    }\n",
              "</style>\n",
              "<table border=\"1\" class=\"dataframe\">\n",
              "  <thead>\n",
              "    <tr style=\"text-align: right;\">\n",
              "      <th></th>\n",
              "      <th>candidateName</th>\n",
              "      <th>companyName</th>\n",
              "      <th>designation</th>\n",
              "      <th>experienceMas</th>\n",
              "      <th>locationCurrentMas</th>\n",
              "      <th>qualificationMas</th>\n",
              "      <th>qualificationMas2</th>\n",
              "      <th>salary</th>\n",
              "      <th>Category</th>\n",
              "      <th>cluster</th>\n",
              "    </tr>\n",
              "  </thead>\n",
              "  <tbody>\n",
              "    <tr>\n",
              "      <th>0</th>\n",
              "      <td>Ruchismita Dash</td>\n",
              "      <td>Amdocs</td>\n",
              "      <td>Software Developer</td>\n",
              "      <td>2 Year(s) 1 Month(s)</td>\n",
              "      <td>Hyderabad/ Secunderabad</td>\n",
              "      <td>BE/ B.Tech (Engineering)</td>\n",
              "      <td>NaN</td>\n",
              "      <td>Rs. 6.71 lacs</td>\n",
              "      <td>HYDERABAD-SALARIED</td>\n",
              "      <td>0</td>\n",
              "    </tr>\n",
              "    <tr>\n",
              "      <th>1</th>\n",
              "      <td>Hara Das</td>\n",
              "      <td>leonia hollistic destination hyderabad</td>\n",
              "      <td>banquet manager</td>\n",
              "      <td>11 Year(s)</td>\n",
              "      <td>Hyderabad/ Secunderabad</td>\n",
              "      <td>BHM (Hotel Management)</td>\n",
              "      <td>NaN</td>\n",
              "      <td>Rs. 7.2 lacs</td>\n",
              "      <td>HYDERABAD-SALARIED</td>\n",
              "      <td>0</td>\n",
              "    </tr>\n",
              "    <tr>\n",
              "      <th>2</th>\n",
              "      <td>Yamini Patil</td>\n",
              "      <td>Mascotspin Control</td>\n",
              "      <td>Technical Manager</td>\n",
              "      <td>6 Year(s) 9 Month(s)</td>\n",
              "      <td>Hyderabad/ Secunderabad</td>\n",
              "      <td>B.Sc. (Science)</td>\n",
              "      <td>M.Sc. (Science)</td>\n",
              "      <td>Rs. 7.0 lacs</td>\n",
              "      <td>HYDERABAD-SALARIED</td>\n",
              "      <td>0</td>\n",
              "    </tr>\n",
              "    <tr>\n",
              "      <th>3</th>\n",
              "      <td>Vajra Mouli</td>\n",
              "      <td>Kotak Mahindra Bank</td>\n",
              "      <td>Branch Manager</td>\n",
              "      <td>15 Year(s)</td>\n",
              "      <td>Hyderabad/ Secunderabad</td>\n",
              "      <td>B.Com. (Commerce)</td>\n",
              "      <td>MBA/ PGDM</td>\n",
              "      <td>Rs. 16.0 lacs</td>\n",
              "      <td>HYDERABAD-SALARIED</td>\n",
              "      <td>0</td>\n",
              "    </tr>\n",
              "    <tr>\n",
              "      <th>4</th>\n",
              "      <td>Chandra Mohan Muttamsetty</td>\n",
              "      <td>Star Health And Allied Insurance Co Ltd</td>\n",
              "      <td>MANAGER HOSPITAL RELATIONS AND NETWORK PROVIDER</td>\n",
              "      <td>5 Year(s) 4 Month(s)</td>\n",
              "      <td>Hyderabad/ Secunderabad</td>\n",
              "      <td>BDS (Dental Surgery)</td>\n",
              "      <td>NaN</td>\n",
              "      <td>Rs. 6.0 lacs</td>\n",
              "      <td>HYDERABAD-SALARIED</td>\n",
              "      <td>0</td>\n",
              "    </tr>\n",
              "  </tbody>\n",
              "</table>\n",
              "</div>"
            ],
            "text/plain": [
              "               candidateName                               companyName  \\\n",
              "0            Ruchismita Dash                                   Amdocs    \n",
              "1                   Hara Das   leonia hollistic destination hyderabad    \n",
              "2               Yamini Patil                       Mascotspin Control    \n",
              "3                Vajra Mouli                      Kotak Mahindra Bank    \n",
              "4  Chandra Mohan Muttamsetty  Star Health And Allied Insurance Co Ltd    \n",
              "\n",
              "                                       designation         experienceMas  \\\n",
              "0                               Software Developer  2 Year(s) 1 Month(s)   \n",
              "1                                  banquet manager           11 Year(s)    \n",
              "2                                Technical Manager  6 Year(s) 9 Month(s)   \n",
              "3                                   Branch Manager           15 Year(s)    \n",
              "4  MANAGER HOSPITAL RELATIONS AND NETWORK PROVIDER  5 Year(s) 4 Month(s)   \n",
              "\n",
              "        locationCurrentMas          qualificationMas qualificationMas2  \\\n",
              "0  Hyderabad/ Secunderabad  BE/ B.Tech (Engineering)               NaN   \n",
              "1  Hyderabad/ Secunderabad    BHM (Hotel Management)               NaN   \n",
              "2  Hyderabad/ Secunderabad           B.Sc. (Science)   M.Sc. (Science)   \n",
              "3  Hyderabad/ Secunderabad         B.Com. (Commerce)         MBA/ PGDM   \n",
              "4  Hyderabad/ Secunderabad      BDS (Dental Surgery)               NaN   \n",
              "\n",
              "          salary            Category  cluster  \n",
              "0  Rs. 6.71 lacs  HYDERABAD-SALARIED        0  \n",
              "1   Rs. 7.2 lacs  HYDERABAD-SALARIED        0  \n",
              "2   Rs. 7.0 lacs  HYDERABAD-SALARIED        0  \n",
              "3  Rs. 16.0 lacs  HYDERABAD-SALARIED        0  \n",
              "4   Rs. 6.0 lacs  HYDERABAD-SALARIED        0  "
            ]
          },
          "execution_count": 25,
          "metadata": {},
          "output_type": "execute_result"
        }
      ],
      "source": [
        "# Purpose: Add cluster assignments to the original dataset and sort it by cluster labels.\n",
        "\n",
        "# Add cluster assignments to the original dataset\n",
        "final['cluster'] = pred\n",
        "\n",
        "# Sort the dataset by cluster labels for analysis and inspection\n",
        "final = final.sort_values(by='cluster', ignore_index=True)\n",
        "\n",
        "# Display the first few rows of the dataset with cluster assignments\n",
        "final.head()"
      ]
    }
  ],
  "metadata": {
    "colab": {
      "collapsed_sections": [],
      "name": "code.ipynb",
      "provenance": []
    },
    "kernelspec": {
      "display_name": "Python 3",
      "language": "python",
      "name": "python3"
    },
    "language_info": {
      "codemirror_mode": {
        "name": "ipython",
        "version": 3
      },
      "file_extension": ".py",
      "mimetype": "text/x-python",
      "name": "python",
      "nbconvert_exporter": "python",
      "pygments_lexer": "ipython3",
      "version": "3.7.12"
    }
  },
  "nbformat": 4,
  "nbformat_minor": 0
}
